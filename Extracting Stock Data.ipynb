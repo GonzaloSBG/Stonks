{
 "cells": [
  {
   "cell_type": "markdown",
   "id": "8f42c324",
   "metadata": {},
   "source": [
    "# Extracting Stock Data\n",
    "\n",
    "Tracking what we learned in the IBM Data Science Professional Certificate we will use the yfinance library (yahoo) to extract data for stocks returning data in a pandas dataframe."
   ]
  },
  {
   "cell_type": "code",
   "execution_count": 1,
   "id": "b5b0b1e4",
   "metadata": {},
   "outputs": [
    {
     "name": "stdout",
     "output_type": "stream",
     "text": [
      "Requirement already satisfied: yfinance==0.1.67 in c:\\users\\gonza\\anaconda3\\lib\\site-packages (0.1.67)\n",
      "Requirement already satisfied: lxml>=4.5.1 in c:\\users\\gonza\\anaconda3\\lib\\site-packages (from yfinance==0.1.67) (4.8.0)\n",
      "Requirement already satisfied: numpy>=1.15 in c:\\users\\gonza\\anaconda3\\lib\\site-packages (from yfinance==0.1.67) (1.21.5)\n",
      "Requirement already satisfied: pandas>=0.24 in c:\\users\\gonza\\anaconda3\\lib\\site-packages (from yfinance==0.1.67) (1.3.5)\n",
      "Requirement already satisfied: multitasking>=0.0.7 in c:\\users\\gonza\\anaconda3\\lib\\site-packages (from yfinance==0.1.67) (0.0.11)\n",
      "Requirement already satisfied: requests>=2.20 in c:\\users\\gonza\\anaconda3\\lib\\site-packages (from yfinance==0.1.67) (2.27.1)\n",
      "Requirement already satisfied: python-dateutil>=2.7.3 in c:\\users\\gonza\\anaconda3\\lib\\site-packages (from pandas>=0.24->yfinance==0.1.67) (2.8.2)\n",
      "Requirement already satisfied: pytz>=2017.3 in c:\\users\\gonza\\anaconda3\\lib\\site-packages (from pandas>=0.24->yfinance==0.1.67) (2021.3)\n",
      "Requirement already satisfied: six>=1.5 in c:\\users\\gonza\\anaconda3\\lib\\site-packages (from python-dateutil>=2.7.3->pandas>=0.24->yfinance==0.1.67) (1.16.0)\n",
      "Requirement already satisfied: idna<4,>=2.5 in c:\\users\\gonza\\anaconda3\\lib\\site-packages (from requests>=2.20->yfinance==0.1.67) (3.3)\n",
      "Requirement already satisfied: urllib3<1.27,>=1.21.1 in c:\\users\\gonza\\anaconda3\\lib\\site-packages (from requests>=2.20->yfinance==0.1.67) (1.26.9)\n",
      "Requirement already satisfied: certifi>=2017.4.17 in c:\\users\\gonza\\anaconda3\\lib\\site-packages (from requests>=2.20->yfinance==0.1.67) (2021.10.8)\n",
      "Requirement already satisfied: charset-normalizer~=2.0.0 in c:\\users\\gonza\\anaconda3\\lib\\site-packages (from requests>=2.20->yfinance==0.1.67) (2.0.4)\n",
      "Requirement already satisfied: pandas==1.3.5 in c:\\users\\gonza\\anaconda3\\lib\\site-packages (1.3.5)\n",
      "Requirement already satisfied: python-dateutil>=2.7.3 in c:\\users\\gonza\\anaconda3\\lib\\site-packages (from pandas==1.3.5) (2.8.2)\n",
      "Requirement already satisfied: pytz>=2017.3 in c:\\users\\gonza\\anaconda3\\lib\\site-packages (from pandas==1.3.5) (2021.3)\n",
      "Requirement already satisfied: numpy>=1.17.3 in c:\\users\\gonza\\anaconda3\\lib\\site-packages (from pandas==1.3.5) (1.21.5)\n",
      "Requirement already satisfied: six>=1.5 in c:\\users\\gonza\\anaconda3\\lib\\site-packages (from python-dateutil>=2.7.3->pandas==1.3.5) (1.16.0)\n"
     ]
    }
   ],
   "source": [
    "#!pip install -U yfinance pandas\n",
    "!pip install yfinance==0.1.67\n",
    "#some tickers give errors with newer versions of Panda\n",
    "!pip install pandas==1.3.5\n",
    "#!pip install -U yfinance pandas\n",
    "\n",
    "#import the libraries\n",
    "import yfinance as yf\n",
    "import pandas as pd"
   ]
  },
  {
   "cell_type": "markdown",
   "id": "955d4793",
   "metadata": {},
   "source": [
    "# Using the yfinance Library to Extract Stock Data\n",
    "Using the Ticker module we can create an object that will allow us to access functions to extract data and using the attribute info we can extract all the necessary information.\n",
    "\n",
    "The format that the data is returned in is a Pandas DataFrame. With the Date as the index the share Open, High, Low, Close, Volume, and Stock Splits are given for each day.\n",
    "\n",
    "We can reset the index of the DataFrame with the reset_index function. We also set the inplace paramter to True so the change takes place to the DataFrame itself.\n",
    "\n",
    "exemple: \n",
    "- apple = yf.Ticker(\"AAPL\")\n",
    "- apple_info=apple.info\n",
    "- apple_share_price_data = apple.history(period=\"max\") #The options for period are 1 day (1d), 5d, 1 month (1mo) , 3mo, 6mo, 1 year (1y), 2y, 5y, 10y, ytd, and max.\n",
    "- apple_share_price_data.reset_index(inplace=True)#reset_index function\n",
    "- apple_share_price_data.plot(x=\"Date\", y=\"Open\") #plot de Open Price\n",
    "- apple.dividends #Access dividens data\n",
    "- apple.dividends.plot() #plot the dividens"
   ]
  },
  {
   "cell_type": "code",
   "execution_count": 2,
   "id": "59f3d930",
   "metadata": {},
   "outputs": [],
   "source": [
    "#Global variables\n",
    "tickerName = None #Ticker of the stock to analyze\n",
    "ticker = None #yfinance object\n",
    "tickerInfo = None #JSON with fundamental info of the stock\n",
    "ticker_share_price_data = None #table with Date VS Open, High, Low, Close, Volume, and Stock Splits"
   ]
  },
  {
   "cell_type": "code",
   "execution_count": 5,
   "id": "180ac729",
   "metadata": {},
   "outputs": [
    {
     "name": "stdout",
     "output_type": "stream",
     "text": [
      "Please, enter the ticker of the company that you want to analyze\n",
      "sgssdgsdgs\n",
      "Cannot get info of yfinance.Ticker object <SGSSDGSDGS>, it probably does not exist, please insert a valid ticker\n",
      "Please, enter the ticker of the company that you want to analyze\n",
      "^GSPC\n",
      "ticker found for S&P 500\n"
     ]
    }
   ],
   "source": [
    "def getTickerYInfo (tickerName):\n",
    "    \"\"\"\n",
    "    Based on the ticker we send it returns the yfinance object that will allow us to access functions to extract data\n",
    "    \"\"\"\n",
    "    tickerloc = yf.Ticker(tickerName)\n",
    "    return tickerloc\n",
    "\n",
    "def getSharePriceData (tickerLoc, periodLoc):\n",
    "    \"\"\"\n",
    "    Based on the ticker we send it returns the share price of the stock over a certain period of time.\n",
    "    The options for period are 1 day (1d), 5d, 1 month (1mo) , 3mo, 6mo, 1 year (1y), 2y, 5y, 10y, ytd, and max.\n",
    "    \"\"\"\n",
    "    ticker_share_price_dataloc = tickerLoc.history(period=periodLoc)\n",
    "    return ticker_share_price_dataloc\n",
    "\n",
    "def plotShare(ticker_share_price_dataLoc, typeLoc):\n",
    "    \"\"\"\n",
    "    Plot based on the DataFrame Date VS type, valid types are Open, High, Low, Close, Volume, and Stock Splits\n",
    "    \"\"\"\n",
    "    ticker_share_price_dataLoc.reset_index(inplace=True)\n",
    "    ticker_share_price_dataLoc.plot(x=\"Date\", y=typeLoc)\n",
    "\n",
    "flag = True\n",
    "while(flag):\n",
    "    try:\n",
    "        tickerName = input('Please, enter the ticker of the company that you want to analyze\\n')\n",
    "        ticker = getTickerYInfo(tickerName)\n",
    "        tickerInfo = ticker.info\n",
    "        #Indices like SP500 or Nasdaq100 don't have \"long name\" atribute and throw error, we solved it asking for a short name\n",
    "        print(f\"ticker found for {tickerInfo['longName']}\")\n",
    "        flag = False\n",
    "    except:\n",
    "        try:\n",
    "            print(f\"ticker found for {tickerInfo['shortName']}\")\n",
    "            flag = False\n",
    "        except:\n",
    "            print(f\"Cannot get info of {ticker}, it probably does not exist, please insert a valid ticker\")"
   ]
  },
  {
   "cell_type": "code",
   "execution_count": 6,
   "id": "73521798",
   "metadata": {},
   "outputs": [
    {
     "name": "stdout",
     "output_type": "stream",
     "text": [
      "Please, enter the desired period (1d, 5d, 1mo, 3mo, 6mo, 1y, 2y, 5y, 10y, ytd, or max)\n",
      "max\n"
     ]
    },
    {
     "data": {
      "text/html": [
       "<div>\n",
       "<style scoped>\n",
       "    .dataframe tbody tr th:only-of-type {\n",
       "        vertical-align: middle;\n",
       "    }\n",
       "\n",
       "    .dataframe tbody tr th {\n",
       "        vertical-align: top;\n",
       "    }\n",
       "\n",
       "    .dataframe thead th {\n",
       "        text-align: right;\n",
       "    }\n",
       "</style>\n",
       "<table border=\"1\" class=\"dataframe\">\n",
       "  <thead>\n",
       "    <tr style=\"text-align: right;\">\n",
       "      <th></th>\n",
       "      <th>Open</th>\n",
       "      <th>High</th>\n",
       "      <th>Low</th>\n",
       "      <th>Close</th>\n",
       "      <th>Volume</th>\n",
       "      <th>Dividends</th>\n",
       "      <th>Stock Splits</th>\n",
       "    </tr>\n",
       "    <tr>\n",
       "      <th>Date</th>\n",
       "      <th></th>\n",
       "      <th></th>\n",
       "      <th></th>\n",
       "      <th></th>\n",
       "      <th></th>\n",
       "      <th></th>\n",
       "      <th></th>\n",
       "    </tr>\n",
       "  </thead>\n",
       "  <tbody>\n",
       "    <tr>\n",
       "      <th>1950-01-03</th>\n",
       "      <td>16.66</td>\n",
       "      <td>16.66</td>\n",
       "      <td>16.66</td>\n",
       "      <td>16.66</td>\n",
       "      <td>1260000</td>\n",
       "      <td>0</td>\n",
       "      <td>0</td>\n",
       "    </tr>\n",
       "    <tr>\n",
       "      <th>1950-01-04</th>\n",
       "      <td>16.85</td>\n",
       "      <td>16.85</td>\n",
       "      <td>16.85</td>\n",
       "      <td>16.85</td>\n",
       "      <td>1890000</td>\n",
       "      <td>0</td>\n",
       "      <td>0</td>\n",
       "    </tr>\n",
       "    <tr>\n",
       "      <th>1950-01-05</th>\n",
       "      <td>16.93</td>\n",
       "      <td>16.93</td>\n",
       "      <td>16.93</td>\n",
       "      <td>16.93</td>\n",
       "      <td>2550000</td>\n",
       "      <td>0</td>\n",
       "      <td>0</td>\n",
       "    </tr>\n",
       "    <tr>\n",
       "      <th>1950-01-06</th>\n",
       "      <td>16.98</td>\n",
       "      <td>16.98</td>\n",
       "      <td>16.98</td>\n",
       "      <td>16.98</td>\n",
       "      <td>2010000</td>\n",
       "      <td>0</td>\n",
       "      <td>0</td>\n",
       "    </tr>\n",
       "    <tr>\n",
       "      <th>1950-01-09</th>\n",
       "      <td>17.08</td>\n",
       "      <td>17.08</td>\n",
       "      <td>17.08</td>\n",
       "      <td>17.08</td>\n",
       "      <td>2520000</td>\n",
       "      <td>0</td>\n",
       "      <td>0</td>\n",
       "    </tr>\n",
       "  </tbody>\n",
       "</table>\n",
       "</div>"
      ],
      "text/plain": [
       "             Open   High    Low  Close   Volume  Dividends  Stock Splits\n",
       "Date                                                                    \n",
       "1950-01-03  16.66  16.66  16.66  16.66  1260000          0             0\n",
       "1950-01-04  16.85  16.85  16.85  16.85  1890000          0             0\n",
       "1950-01-05  16.93  16.93  16.93  16.93  2550000          0             0\n",
       "1950-01-06  16.98  16.98  16.98  16.98  2010000          0             0\n",
       "1950-01-09  17.08  17.08  17.08  17.08  2520000          0             0"
      ]
     },
     "execution_count": 6,
     "metadata": {},
     "output_type": "execute_result"
    }
   ],
   "source": [
    "#We ask for the desired period \n",
    "flag = True\n",
    "while(flag):\n",
    "    period = input('Please, enter the desired period (1d, 5d, 1mo, 3mo, 6mo, 1y, 2y, 5y, 10y, ytd, or max)\\n')\n",
    "    if period == \"1d\" or period == \"5d\" or period == \"1mo\" or period == \"3mo\" or period == \"6mo\" or period == \"1y\" or period == \"2y\" or period == \"5y\" or period == \"10y\" or period == \"ytd\" or period == \"max\":\n",
    "        flag = False\n",
    "    else:\n",
    "        print(\"please insert a valid period\")\n",
    "ticker_share_price_data = getSharePriceData (ticker, period)\n",
    "ticker_share_price_data.head()"
   ]
  },
  {
   "cell_type": "code",
   "execution_count": 7,
   "id": "6b2f2a98",
   "metadata": {},
   "outputs": [
    {
     "name": "stdout",
     "output_type": "stream",
     "text": [
      "Please, enter the desired type of data (Open, High, Low, Close, Volume, or Stock Splits)\n",
      "Close\n"
     ]
    },
    {
     "data": {
      "image/png": "[encoded data removed]",
      "text/plain": [
       "<Figure size 432x288 with 1 Axes>"
      ]
     },
     "metadata": {
      "needs_background": "light"
     },
     "output_type": "display_data"
    }
   ],
   "source": [
    "#We ask for the desired type of data \n",
    "flag = True\n",
    "while(flag):\n",
    "    typeData = input('Please, enter the desired type of data (Open, High, Low, Close, Volume, or Stock Splits)\\n')\n",
    "    if typeData == \"Open\" or typeData == \"High\" or typeData == \"Low\" or typeData == \"Close\" or typeData == \"Volume\" or typeData == \"Stock Splits\":\n",
    "        flag = False\n",
    "    else:\n",
    "        print(\"please insert a valid type for data\")\n",
    "#plot the share\n",
    "plotShare(ticker_share_price_data, typeData)"
   ]
  },
  {
   "cell_type": "code",
   "execution_count": null,
   "id": "30bd4081",
   "metadata": {},
   "outputs": [],
   "source": []
  }
 ],
 "metadata": {
  "kernelspec": {
   "display_name": "Python 3 (ipykernel)",
   "language": "python",
   "name": "python3"
  },
  "language_info": {
   "codemirror_mode": {
    "name": "ipython",
    "version": 3
   },
   "file_extension": ".py",
   "mimetype": "text/x-python",
   "name": "python",
   "nbconvert_exporter": "python",
   "pygments_lexer": "ipython3",
   "version": "3.9.12"
  }
 },
 "nbformat": 4,
 "nbformat_minor": 5
}
